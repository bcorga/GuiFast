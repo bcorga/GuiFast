{
 "cells": [
  {
   "cell_type": "markdown",
   "id": "cff066dd",
   "metadata": {},
   "source": [
    "# Fine-Tuning de un Modelo de Lenguaje en Español (Guiones IA)"
   ]
  },
  {
   "cell_type": "markdown",
   "id": "5ff48586",
   "metadata": {},
   "source": [
    "Este notebook entrena un modelo de lenguaje (`spanish-gpt2`) usando guiones personalizados."
   ]
  },
  {
   "cell_type": "markdown",
   "id": "2557e350",
   "metadata": {},
   "source": [
    "## 📦 Paso 1: Instalar Dependencias"
   ]
  },
  {
   "cell_type": "code",
   "execution_count": null,
   "id": "5ba8970a",
   "metadata": {},
   "outputs": [],
   "source": [
    "!pip install transformers datasets accelerate"
   ]
  },
  {
   "cell_type": "markdown",
   "id": "e5d0c1c6",
   "metadata": {},
   "source": [
    "## 📁 Paso 2: Subir tu Dataset `.jsonl`"
   ]
  },
  {
   "cell_type": "code",
   "execution_count": null,
   "id": "cd346832",
   "metadata": {},
   "outputs": [],
   "source": [
    "from google.colab import files\n",
    "uploaded = files.upload()  # Cargar archivo guiones_ejemplo.jsonl"
   ]
  },
  {
   "cell_type": "markdown",
   "id": "6c4d5eb6",
   "metadata": {},
   "source": [
    "## 📚 Paso 3: Preparar Dataset"
   ]
  },
  {
   "cell_type": "code",
   "execution_count": null,
   "id": "418416c1",
   "metadata": {},
   "outputs": [],
   "source": [
    "from datasets import load_dataset\n",
    "dataset = load_dataset(\"json\", data_files=\"guiones_ejemplo.jsonl\", split=\"train\")"
   ]
  },
  {
   "cell_type": "markdown",
   "id": "ccc4986c",
   "metadata": {},
   "source": [
    "## 🤖 Paso 4: Cargar Modelo y Tokenizer (con pad_token y resize de embeddings)"
   ]
  },
  {
   "cell_type": "code",
   "execution_count": null,
   "id": "74c7661d",
   "metadata": {},
   "outputs": [],
   "source": [
    "from transformers import AutoTokenizer, AutoModelForCausalLM\n",
    "\n",
    "model_name = \"mrm8488/spanish-gpt2\"\n",
    "\n",
    "tokenizer = AutoTokenizer.from_pretrained(model_name)\n",
    "tokenizer.pad_token = tokenizer.eos_token  # Añadir pad_token\n",
    "\n",
    "model = AutoModelForCausalLM.from_pretrained(model_name)\n",
    "model.resize_token_embeddings(len(tokenizer))  # Ajustar embeddings al nuevo vocabulario"
   ]
  },
  {
   "cell_type": "markdown",
   "id": "e6c5ff53",
   "metadata": {},
   "source": [
    "## ⚙️ Paso 5: Tokenizar"
   ]
  },
  {
   "cell_type": "code",
   "execution_count": null,
   "id": "1f3f32af",
   "metadata": {},
   "outputs": [],
   "source": [
    "def tokenize_function(example):\n",
    "    return tokenizer(example[\"text\"], truncation=True, padding=\"max_length\", max_length=128)\n",
    "\n",
    "tokenized_dataset = dataset.map(tokenize_function, batched=True)"
   ]
  },
  {
   "cell_type": "markdown",
   "id": "4101a3a9",
   "metadata": {},
   "source": [
    "## 🔁 Paso 6: Entrenar"
   ]
  },
  {
   "cell_type": "code",
   "execution_count": null,
   "id": "98372d83",
   "metadata": {},
   "outputs": [],
   "source": [
    "from transformers import TrainingArguments, Trainer, DataCollatorForLanguageModeling\n",
    "\n",
    "training_args = TrainingArguments(\n",
    "    output_dir=\"./guion-model\",\n",
    "    per_device_train_batch_size=2,\n",
    "    num_train_epochs=3,\n",
    "    logging_steps=10,\n",
    "    save_steps=100,\n",
    "    save_total_limit=1,\n",
    "    eval_strategy=\"no\",  # actualizado\n",
    "    report_to=\"none\"\n",
    ")\n",
    "\n",
    "data_collator = DataCollatorForLanguageModeling(tokenizer=tokenizer, mlm=False)\n",
    "\n",
    "trainer = Trainer(\n",
    "    model=model,\n",
    "    args=training_args,\n",
    "    train_dataset=tokenized_dataset,\n",
    "    data_collator=data_collator,\n",
    ")\n",
    "\n",
    "trainer.train()"
   ]
  },
  {
   "cell_type": "markdown",
   "id": "45cac838",
   "metadata": {},
   "source": [
    "## 💾 Paso 7: Guardar el Modelo Entrenado en Drive"
   ]
  },
  {
   "cell_type": "code",
   "execution_count": null,
   "id": "868c2905",
   "metadata": {},
   "outputs": [],
   "source": [
    "from google.colab import drive\n",
    "drive.mount('/content/drive')\n",
    "\n",
    "model.save_pretrained(\"/content/drive/MyDrive/guion-model\")\n",
    "tokenizer.save_pretrained(\"/content/drive/MyDrive/guion-model\")"
   ]
  },
  {
   "cell_type": "markdown",
   "id": "f206e980",
   "metadata": {},
   "source": [
    "✅ ¡Listo! Ahora puedes usar este modelo en tu API Flask o subirlo a Hugging Face."
   ]
  }
 ],
 "metadata": {},
 "nbformat": 4,
 "nbformat_minor": 5
}