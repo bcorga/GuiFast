{
 "cells": [
  {
   "cell_type": "markdown",
   "id": "a7c5e0dc",
   "metadata": {},
   "source": [
    "# 🎬 Fine-Tuning GPT-2 en Español para Generación de Guiones\n",
    "Este notebook entrena un modelo `spanish-gpt2` usando Hugging Face y un dataset `.jsonl` con guiones."
   ]
  },
  {
   "cell_type": "code",
   "execution_count": null,
   "id": "57c77471",
   "metadata": {},
   "outputs": [],
   "source": [
    "# ✅ 1. Instalar dependencias\n",
    "!pip install transformers datasets accelerate --quiet"
   ]
  },
  {
   "cell_type": "code",
   "execution_count": null,
   "id": "11c9fff1",
   "metadata": {},
   "outputs": [],
   "source": [
    "# ✅ 2. Subir el archivo JSONL con los guiones\n",
    "from google.colab import files\n",
    "uploaded = files.upload()"
   ]
  },
  {
   "cell_type": "code",
   "execution_count": null,
   "id": "5317349d",
   "metadata": {},
   "outputs": [],
   "source": [
    "# ✅ 3. Cargar y preparar dataset\n",
    "from datasets import load_dataset\n",
    "\n",
    "dataset = load_dataset('json', data_files='guiones_ejemplo.jsonl', split='train')\n",
    "dataset = dataset.shuffle(seed=42)\n",
    "dataset"
   ]
  },
  {
   "cell_type": "code",
   "execution_count": null,
   "id": "db14aa0e",
   "metadata": {},
   "outputs": [],
   "source": [
    "# ✅ 4. Tokenizar datos\n",
    "from transformers import AutoTokenizer\n",
    "\n",
    "model_name = 'mrm8488/spanish-gpt2'\n",
    "tokenizer = AutoTokenizer.from_pretrained(model_name)\n",
    "\n",
    "def tokenize_function(examples):\n",
    "    return tokenizer(examples['text'], truncation=True, padding='max_length', max_length=128)\n",
    "\n",
    "tokenized_dataset = dataset.map(tokenize_function, batched=True)\n",
    "tokenized_dataset.set_format('torch')"
   ]
  },
  {
   "cell_type": "code",
   "execution_count": null,
   "id": "202c8d43",
   "metadata": {},
   "outputs": [],
   "source": [
    "# ✅ 5. Cargar modelo\n",
    "from transformers import AutoModelForCausalLM\n",
    "\n",
    "model = AutoModelForCausalLM.from_pretrained(model_name)"
   ]
  },
  {
   "cell_type": "code",
   "execution_count": null,
   "id": "f71b6204",
   "metadata": {},
   "outputs": [],
   "source": [
    "# ✅ 6. Configurar entrenamiento\n",
    "from transformers import TrainingArguments, Trainer, DataCollatorForLanguageModeling\n",
    "\n",
    "training_args = TrainingArguments(\n",
    "    output_dir='./results',\n",
    "    evaluation_strategy='no',\n",
    "    num_train_epochs=3,\n",
    "    per_device_train_batch_size=2,\n",
    "    save_steps=500,\n",
    "    logging_dir='./logs',\n",
    "    logging_steps=50,\n",
    ")\n",
    "\n",
    "data_collator = DataCollatorForLanguageModeling(tokenizer=tokenizer, mlm=False)\n",
    "\n",
    "trainer = Trainer(\n",
    "    model=model,\n",
    "    args=training_args,\n",
    "    train_dataset=tokenized_dataset,\n",
    "    data_collator=data_collator,\n",
    ")\n",
    "\n",
    "trainer.train()"
   ]
  },
  {
   "cell_type": "code",
   "execution_count": null,
   "id": "d2a20636",
   "metadata": {},
   "outputs": [],
   "source": [
    "# ✅ 7. Guardar modelo finetuneado\n",
    "trainer.save_model('./modelo-guion')\n",
    "tokenizer.save_pretrained('./modelo-guion')"
   ]
  }
 ],
 "metadata": {
  "kernelspec": {
   "display_name": "Python 3",
   "language": "python",
   "name": "python3"
  },
  "language_info": {
   "name": "python",
   "version": "3.9"
  }
 },
 "nbformat": 4,
 "nbformat_minor": 5
}
